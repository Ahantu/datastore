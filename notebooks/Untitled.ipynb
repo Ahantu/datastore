{
 "cells": [
  {
   "cell_type": "code",
   "execution_count": 1,
   "id": "c9b5ce72",
   "metadata": {},
   "outputs": [
    {
     "name": "stdout",
     "output_type": "stream",
     "text": [
      "--2022-04-22 10:30:36--  http://dataincubator-wqu.s3.amazonaws.com/dwdata/201701scripts_sample.csv.gz\n",
      "Resolving dataincubator-wqu.s3.amazonaws.com (dataincubator-wqu.s3.amazonaws.com)... 52.216.154.244\n",
      "Connecting to dataincubator-wqu.s3.amazonaws.com (dataincubator-wqu.s3.amazonaws.com)|52.216.154.244|:80... connected.\n",
      "HTTP request sent, awaiting response... 200 OK\n",
      "Length: 19011654 (18M) [text/csv]\n",
      "Saving to: ‘./dw-data/201701scripts_sample.csv.gz’\n",
      "\n",
      "201701scripts_sampl 100%[===================>]  18.13M   111KB/s    in 2m 48s  \n",
      "\n",
      "2022-04-22 10:33:25 (111 KB/s) - ‘./dw-data/201701scripts_sample.csv.gz’ saved [19011654/19011654]\n",
      "\n"
     ]
    }
   ],
   "source": [
    "!wget http://dataincubator-wqu.s3.amazonaws.com/dwdata/201701scripts_sample.csv.gz -nc -P ./dw-data/\n"
   ]
  },
  {
   "cell_type": "code",
   "execution_count": 3,
   "id": "693f65fd",
   "metadata": {},
   "outputs": [],
   "source": [
    "import pandas as pd\n",
    "import numpy as np\n",
    "import gzip"
   ]
  },
  {
   "cell_type": "code",
   "execution_count": null,
   "id": "ff25f7de",
   "metadata": {},
   "outputs": [],
   "source": [
    "with gzip.open('./dw-data/201701scripts_sample.csv.gz') as f:\n",
    "    scripts = pd.read_csv(f)\n",
    "scripts.head()\n",
    "scripts.to_json(r'scripts.json', oreint)"
   ]
  }
 ],
 "metadata": {
  "kernelspec": {
   "display_name": "Python 3",
   "language": "python",
   "name": "python3"
  },
  "language_info": {
   "codemirror_mode": {
    "name": "ipython",
    "version": 3
   },
   "file_extension": ".py",
   "mimetype": "text/x-python",
   "name": "python",
   "nbconvert_exporter": "python",
   "pygments_lexer": "ipython3",
   "version": "3.8.8"
  }
 },
 "nbformat": 4,
 "nbformat_minor": 5
}
